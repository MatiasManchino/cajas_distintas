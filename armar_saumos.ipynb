{
  "nbformat": 4,
  "nbformat_minor": 0,
  "metadata": {
    "colab": {
      "name": "armar_saumos.ipynb",
      "private_outputs": true,
      "provenance": [],
      "authorship_tag": "ABX9TyMqeMtlO9ZFvb9uvtfHsEDK",
      "include_colab_link": true
    },
    "kernelspec": {
      "name": "python3",
      "display_name": "Python 3"
    },
    "language_info": {
      "name": "python"
    }
  },
  "cells": [
    {
      "cell_type": "markdown",
      "metadata": {
        "id": "view-in-github",
        "colab_type": "text"
      },
      "source": [
        "<a href=\"https://colab.research.google.com/github/MatiasManchino/cajas_distintas/blob/main/armar_saumos.ipynb\" target=\"_parent\"><img src=\"https://colab.research.google.com/assets/colab-badge.svg\" alt=\"Open In Colab\"/></a>"
      ]
    },
    {
      "cell_type": "markdown",
      "source": [
        "### Algoritmo de prueba\n",
        "\n",
        "1- Se tiene una lista con distintos tipos de **especies de plantas** (cada una con su descripcion) y una **caja** donde entran N cantidad de especies.\n",
        "\n",
        "2- Se el usuario puede armar su caja eligiendo N de cualquiera de las espcies que hay, para **armar su saumo**.\n",
        "\n",
        "3- Las **descripciones de las plantas son unicas** y las combinación entre ellas da a una **nueva descripción**.\n",
        "\n",
        "Crear una funcion que ingrese por parametro hasta 5 plantas distintas de la lista de especies para ingresarlas en la caja, y retorne una **descripcion del saumo**.\n",
        "\n",
        "**Variables:**\n",
        "especies: lista con el total de plantas\n",
        "enviar_plantas: el listado de plantas elegidas por el usuario\n",
        "dicc_plantas: lista con el id de las platas y la escripcion (puede ser un diccionario primeramente)\n",
        "\n",
        "ejem:\n",
        "\n",
        "```Python\n",
        "INPUT:\n",
        "\n",
        "especies = ['lavanda','romero','salvia','oregano','artemisa']\n",
        "crearsaumo(enviar_plantas,dicc_plantas)\n",
        "\n",
        "OUTPUT:\n",
        "'La lavanda le da un toque de aroma al alma,\n",
        " el romero le da un toque de honor a la causa,\n",
        " la salvia batalla la ansiedad, el oregano le\n",
        " da condimento a la vida y la artemisa que se\n",
        " yo es una diosa jajaja'\n",
        "```\n"
      ],
      "metadata": {
        "id": "llECMxZMGolF"
      }
    },
    {
      "cell_type": "code",
      "execution_count": null,
      "metadata": {
        "id": "ad59BdWzDj9Q"
      },
      "outputs": [],
      "source": [
        ""
      ]
    },
    {
      "cell_type": "code",
      "source": [
        ""
      ],
      "metadata": {
        "id": "bA3UhAKQGoQP"
      },
      "execution_count": null,
      "outputs": []
    }
  ]
}